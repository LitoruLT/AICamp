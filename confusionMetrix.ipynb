{
 "cells": [
  {
   "cell_type": "code",
   "execution_count": 1,
   "id": "d4b11d44",
   "metadata": {},
   "outputs": [],
   "source": [
    "import matplotlib.pyplot as plt\n",
    "import numpy as np\n",
    "import os\n",
    "import PIL\n",
    "import tensorflow as tf\n",
    "\n",
    "from tensorflow import keras\n",
    "from tensorflow.keras import layers\n",
    "from tensorflow.keras.models import Sequential\n",
    "from tensorflow.keras.utils import to_categorical"
   ]
  },
  {
   "cell_type": "code",
   "execution_count": 2,
   "id": "6be378d8",
   "metadata": {},
   "outputs": [],
   "source": [
    "batch_size = 1\n",
    "img_height = 200\n",
    "img_width = 200\n",
    "NUM_CLASSES = 5"
   ]
  },
  {
   "cell_type": "code",
   "execution_count": 3,
   "id": "692ee738",
   "metadata": {},
   "outputs": [],
   "source": [
    "model = keras.models.load_model(r\"C:\\Users\\kuric\\Desktop\\AI Camp\\Code\\Project_back\\ModelSaving\\FinalModel_EfficientNetB7.h5\")"
   ]
  },
  {
   "cell_type": "code",
   "execution_count": 4,
   "id": "c3d65c8e",
   "metadata": {},
   "outputs": [
    {
     "name": "stdout",
     "output_type": "stream",
     "text": [
      "Found 7444 files belonging to 5 classes.\n"
     ]
    }
   ],
   "source": [
    "test_dir = r\"C:\\Users\\kuric\\Desktop\\AI Camp\\Code\\Project_back\\Data_aug_Unclean\"\n",
    "test_ds = tf.keras.utils.image_dataset_from_directory(\n",
    "    test_dir,\n",
    "    image_size=(img_height, img_width),\n",
    "    batch_size=1\n",
    ")"
   ]
  },
  {
   "cell_type": "code",
   "execution_count": 5,
   "id": "090bffc4",
   "metadata": {},
   "outputs": [
    {
     "name": "stdout",
     "output_type": "stream",
     "text": [
      "7444/7444 [==============================] - 239s 31ms/step - loss: 1.6724 - accuracy: 0.1972\n"
     ]
    }
   ],
   "source": [
    "test_data = test_ds.map(lambda x, y: (x/255., \n",
    "                                      tf.one_hot(y, depth=NUM_CLASSES)))\n",
    "result = model.evaluate(test_data)"
   ]
  },
  {
   "cell_type": "code",
   "execution_count": 6,
   "id": "5ff1e566",
   "metadata": {},
   "outputs": [],
   "source": [
    "test_x = []\n",
    "test_y = []\n",
    "for images, labels in test_data:\n",
    "    test_x.append(images)\n",
    "    test_y.append(np.argmax(labels))"
   ]
  },
  {
   "cell_type": "code",
   "execution_count": 7,
   "id": "cadabab8",
   "metadata": {},
   "outputs": [
    {
     "name": "stdout",
     "output_type": "stream",
     "text": [
      "CPU times: total: 7min 31s\n",
      "Wall time: 6min 32s\n"
     ]
    }
   ],
   "source": [
    "%%time\n",
    "preds = []\n",
    "for img in test_x:\n",
    "    preds.append(np.argmax(model.predict(img)))"
   ]
  },
  {
   "cell_type": "code",
   "execution_count": 8,
   "id": "260f310c",
   "metadata": {
    "scrolled": true
   },
   "outputs": [
    {
     "name": "stdout",
     "output_type": "stream",
     "text": [
      "<class 'list'>\n"
     ]
    }
   ],
   "source": [
    "print(type(preds))"
   ]
  },
  {
   "cell_type": "code",
   "execution_count": 9,
   "id": "ebc76489",
   "metadata": {},
   "outputs": [],
   "source": [
    "preds = np.array(preds)\n",
    "test_y = np.array(test_y)"
   ]
  },
  {
   "cell_type": "code",
   "execution_count": 10,
   "id": "fc15179e",
   "metadata": {
    "scrolled": true
   },
   "outputs": [
    {
     "name": "stdout",
     "output_type": "stream",
     "text": [
      "[3 3 3 ... 3 3 3]\n",
      "[1 3 4 ... 4 2 2]\n"
     ]
    }
   ],
   "source": [
    "print(preds)\n",
    "print(test_y)"
   ]
  },
  {
   "cell_type": "code",
   "execution_count": 11,
   "id": "2570357c",
   "metadata": {},
   "outputs": [],
   "source": [
    "class_names = test_ds.class_names"
   ]
  },
  {
   "cell_type": "code",
   "execution_count": 12,
   "id": "affcebf5",
   "metadata": {},
   "outputs": [],
   "source": [
    "confm = tf.math.confusion_matrix(\n",
    "    test_y,\n",
    "    preds,\n",
    "    num_classes=NUM_CLASSES,\n",
    "    dtype=tf.dtypes.int32,\n",
    "    name=class_names\n",
    ")"
   ]
  },
  {
   "cell_type": "code",
   "execution_count": 13,
   "id": "951b006d",
   "metadata": {},
   "outputs": [],
   "source": [
    "confm = np.array(confm)"
   ]
  },
  {
   "cell_type": "code",
   "execution_count": 14,
   "id": "fac4e524",
   "metadata": {
    "scrolled": false
   },
   "outputs": [
    {
     "data": {
      "text/plain": [
       "<AxesSubplot:title={'center':'All fold confusion matrix of the multi-class classification\\n\\nModel EfficientNetB7\\n\\nMean Accuracy is 0.20'}>"
      ]
     },
     "execution_count": 14,
     "metadata": {},
     "output_type": "execute_result"
    },
    {
     "data": {
      "image/png": "[encoded data removed]",
      "text/plain": [
       "<Figure size 864x648 with 2 Axes>"
      ]
     },
     "metadata": {
      "needs_background": "light"
     },
     "output_type": "display_data"
    }
   ],
   "source": [
    "\n",
    "import seaborn as sns\n",
    "import pandas as pd\n",
    "\n",
    "df_cm = pd.DataFrame((confm/confm.astype(np.float32).sum(axis=1)), index =class_names,\n",
    "              columns =class_names )\n",
    "plt.figure(figsize = (12,9))\n",
    "plt.title('All fold confusion matrix of the multi-class classification\\n\\nModel EfficientNetB7\\n\\nMean Accuracy is {:.2f}'.format((np.mean(result[1]))))\n",
    "sns.heatmap(df_cm, annot=True,cmap=\"YlGn\",fmt=\".2f\")"
   ]
  },
  {
   "cell_type": "code",
   "execution_count": null,
   "id": "b64adf33",
   "metadata": {},
   "outputs": [],
   "source": []
  },
  {
   "cell_type": "code",
   "execution_count": null,
   "id": "d61ced80",
   "metadata": {},
   "outputs": [],
   "source": []
  }
 ],
 "metadata": {
  "kernelspec": {
   "display_name": "Python [conda env:scAI]",
   "language": "python",
   "name": "conda-env-scAI-py"
  },
  "language_info": {
   "codemirror_mode": {
    "name": "ipython",
    "version": 3
   },
   "file_extension": ".py",
   "mimetype": "text/x-python",
   "name": "python",
   "nbconvert_exporter": "python",
   "pygments_lexer": "ipython3",
   "version": "3.9.12"
  }
 },
 "nbformat": 4,
 "nbformat_minor": 5
}
