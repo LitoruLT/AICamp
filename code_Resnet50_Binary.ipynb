{
 "cells": [
  {
   "cell_type": "code",
   "execution_count": 1,
   "id": "c9e6e841",
   "metadata": {},
   "outputs": [
    {
     "name": "stdout",
     "output_type": "stream",
     "text": [
      "2.8.0\n"
     ]
    }
   ],
   "source": [
    "import tensorflow as tf\n",
    "print(tf.__version__)"
   ]
  },
  {
   "cell_type": "code",
   "execution_count": 2,
   "id": "1066162b",
   "metadata": {},
   "outputs": [],
   "source": [
    "%reload_ext autoreload\n",
    "%autoreload 2\n",
    "%matplotlib inline"
   ]
  },
  {
   "cell_type": "code",
   "execution_count": 3,
   "id": "69c26990",
   "metadata": {},
   "outputs": [
    {
     "name": "stdout",
     "output_type": "stream",
     "text": [
      "Default GPU Device:/device:GPU:0\n"
     ]
    }
   ],
   "source": [
    "import tensorflow as tf \n",
    "\n",
    "if tf.test.gpu_device_name(): \n",
    "    print('Default GPU Device:{}'.format(tf.test.gpu_device_name()))\n",
    "\n",
    "else:\n",
    "    print(\"Please install GPU version of TF\")"
   ]
  },
  {
   "cell_type": "code",
   "execution_count": 4,
   "id": "6aace323",
   "metadata": {},
   "outputs": [],
   "source": [
    "\n",
    "import os\n",
    "import keras\n",
    "import matplotlib.pyplot as plt\n",
    "import numpy as np\n",
    "import PIL\n",
    "import tensorflow as tf\n",
    "from tensorflow.keras.preprocessing.image import ImageDataGenerator\n",
    "from tensorflow.keras import layers\n",
    "from tensorflow.keras.models import Sequential,Model\n",
    "from tensorflow.keras.layers import Dense, Dropout, Flatten, Conv2D, MaxPooling2D, ZeroPadding3D , BatchNormalization, GlobalAveragePooling2D\n",
    "from tensorflow.keras import Input\n"
   ]
  },
  {
   "cell_type": "code",
   "execution_count": null,
   "id": "cbf7880b",
   "metadata": {},
   "outputs": [],
   "source": []
  },
  {
   "cell_type": "code",
   "execution_count": 5,
   "id": "46ed9eab",
   "metadata": {},
   "outputs": [],
   "source": [
    "batch_size = 4\n",
    "img_height = 200\n",
    "img_width = 200\n",
    "NUM_CLASSES = 2"
   ]
  },
  {
   "cell_type": "code",
   "execution_count": 6,
   "id": "fda5c59c",
   "metadata": {},
   "outputs": [],
   "source": [
    "import pathlib\n",
    "data_dir = r\"C:\\Users\\kuric\\Desktop\\AI Camp\\Code\\Project_back\\Snake_Images\\train\"\n",
    "data_dir = pathlib.Path(data_dir)"
   ]
  },
  {
   "cell_type": "code",
   "execution_count": 7,
   "id": "023f6b86",
   "metadata": {
    "scrolled": true
   },
   "outputs": [
    {
     "name": "stdout",
     "output_type": "stream",
     "text": [
      "1772\n"
     ]
    }
   ],
   "source": [
    "image_count = len(list(data_dir.glob('*/*.jpg')))\n",
    "print(image_count)"
   ]
  },
  {
   "cell_type": "code",
   "execution_count": 8,
   "id": "756e41fe",
   "metadata": {},
   "outputs": [
    {
     "name": "stdout",
     "output_type": "stream",
     "text": [
      "Found 1775 files belonging to 2 classes.\n",
      "Using 710 files for training.\n",
      "Found 1775 files belonging to 2 classes.\n",
      "Using 710 files for validation.\n"
     ]
    }
   ],
   "source": [
    "train_ds = tf.keras.utils.image_dataset_from_directory(\n",
    "    data_dir,\n",
    "    validation_split=0.6,\n",
    "    subset=\"training\",\n",
    "    seed=123,\n",
    "    label_mode='categorical',\n",
    "    image_size=(img_height, img_width),\n",
    "    batch_size=batch_size\n",
    ")\n",
    "\n",
    "val_ds = tf.keras.utils.image_dataset_from_directory(\n",
    "    data_dir,\n",
    "    validation_split=0.4,\n",
    "    subset=\"validation\",\n",
    "    seed=123,\n",
    "    label_mode='categorical',\n",
    "    image_size=(img_height, img_width),\n",
    "    batch_size=batch_size)"
   ]
  },
  {
   "cell_type": "code",
   "execution_count": 9,
   "id": "0621481f",
   "metadata": {},
   "outputs": [],
   "source": [
    "\n",
    "# def plots(ims, figsize=(12,12), rows=1, interp=False, titles=None):\n",
    "#     if type(ims[0]) is np.ndarray:\n",
    "#         ims = np.array(ims).astype(np.uint8)\n",
    "#         if (ims.shape[-1] != 3):\n",
    "#             ims = ims.transpose((0,2,3,1))\n",
    "#     f = plt.figure(figsize=figsize)\n",
    "#     cols = len(ims)//rows if len(ims) % 2 == 0 else len(ims)//rows + 1\n",
    "\n",
    "#     for i in range(len(ims)):\n",
    "#         sp = f.add_subplot(cols, rows, i+1)\n",
    "#         sp.axis('Off')\n",
    "#         if titles is not None:\n",
    "#             sp.set_title(titles[i], fontsize=12)\n",
    "#         plt.imshow(ims[i], interpolation=None if interp else 'none')\n",
    "\n",
    "  \n",
    "# #Images Classes with index\n",
    "# print(train_generator.class_indices)\n",
    "# for i in range(14):\n",
    "# #Check the training set\n",
    "#     imgs, labels = next(train_generator)\n",
    "# #Images are shown in the output\n",
    "#     plots(imgs, titles=labels)\n",
    "    \n",
    "\n",
    "\n",
    "# NUM_CLASSES = len(train_generator.class_indices) ## set NUM_CLASSES\n",
    "# print(\"Classes = {}\".format(NUM_CLASSES))\n"
   ]
  },
  {
   "cell_type": "code",
   "execution_count": 10,
   "id": "8ea0c24e",
   "metadata": {},
   "outputs": [],
   "source": [
    "from keras.applications import xception\n",
    "from tensorflow.keras.optimizers import Adam\n",
    "from keras.layers import GlobalAveragePooling2D, Input, Dense, Activation, ZeroPadding2D, BatchNormalization, Flatten, Conv2D\n",
    "from keras.models import Model\n",
    "\n",
    "model_name = \"Binary_Resnet\"\n",
    "\n",
    "model = Sequential()\n",
    "\n",
    "pretrained_model= tf.keras.applications.ResNet50(include_top=False,\n",
    "                    input_shape=(img_height,img_width,3),\n",
    "                    pooling='avg',classes=NUM_CLASSES,\n",
    "                    weights='imagenet')\n",
    "for layer in pretrained_model.layers:\n",
    "        layer.trainable=False\n",
    "\n",
    "\n",
    "model.add(pretrained_model)\n",
    "model.add(Flatten())\n",
    "model.add(Dense(512, activation='relu'))\n",
    "model.add(Dense(NUM_CLASSES, activation='softmax'))\n",
    "\n",
    "learningRate = 0.00001\n",
    "loss_function = \"categorical_crossentropy\"\n",
    "model.compile(optimizer=Adam(learning_rate=learningRate),\n",
    "               loss=loss_function,\n",
    "               metrics=['accuracy'])\n",
    "\n",
    "################################################\n",
    "nb_epochs=100\n",
    "################################################"
   ]
  },
  {
   "cell_type": "code",
   "execution_count": 11,
   "id": "73719b35",
   "metadata": {},
   "outputs": [],
   "source": [
    "# resnet_model.add(Flatten())\n",
    "# resnet_model.add(Dense(512, activation='relu'))\n",
    "# resnet_model.add(Dense(NUM_CLASSES, activation='softmax'))"
   ]
  },
  {
   "cell_type": "code",
   "execution_count": 12,
   "id": "c0a61f4d",
   "metadata": {
    "scrolled": true
   },
   "outputs": [
    {
     "name": "stdout",
     "output_type": "stream",
     "text": [
      "Model: \"sequential\"\n",
      "_________________________________________________________________\n",
      " Layer (type)                Output Shape              Param #   \n",
      "=================================================================\n",
      " resnet50 (Functional)       (None, 2048)              23587712  \n",
      "                                                                 \n",
      " flatten (Flatten)           (None, 2048)              0         \n",
      "                                                                 \n",
      " dense (Dense)               (None, 512)               1049088   \n",
      "                                                                 \n",
      " dense_1 (Dense)             (None, 2)                 1026      \n",
      "                                                                 \n",
      "=================================================================\n",
      "Total params: 24,637,826\n",
      "Trainable params: 1,050,114\n",
      "Non-trainable params: 23,587,712\n",
      "_________________________________________________________________\n"
     ]
    }
   ],
   "source": [
    "model.summary()"
   ]
  },
  {
   "cell_type": "code",
   "execution_count": null,
   "id": "d30b8eac",
   "metadata": {},
   "outputs": [],
   "source": [
    "\n"
   ]
  },
  {
   "cell_type": "code",
   "execution_count": 13,
   "id": "5f6e9f30",
   "metadata": {},
   "outputs": [],
   "source": [
    "# #  Train  with backup h5 every epoch. #####################\n",
    "\n",
    "\n",
    "# checkpoint_path = r\"./ModelSaving/\"+modelName+\"-{epoch:04d}.h5\"\n",
    "# checkpoint_dir = os.path.dirname(checkpoint_path)\n",
    "# cp_callback = tf.keras.callbacks.ModelCheckpoint(\n",
    "#     checkpoint_path, verbose=1, save_weights_only=False,\n",
    "#     # Save weights, every epoch.\n",
    "#     save_freq='epoch'\n",
    "# )\n",
    "# model.save(checkpoint_path.format(epoch=0))\n",
    "# vg = validation_generator\n",
    "# history = model.fit( train_generator, validation_data=vg ,epochs=nb_epochs, callbacks = [cp_callback])"
   ]
  },
  {
   "cell_type": "code",
   "execution_count": 14,
   "id": "fd2e5ff7",
   "metadata": {},
   "outputs": [
    {
     "name": "stdout",
     "output_type": "stream",
     "text": [
      "Epoch 1/100\n",
      "178/178 [==============================] - 9s 25ms/step - loss: 0.7172 - accuracy: 0.6000 - val_loss: 0.6062 - val_accuracy: 0.6521\n",
      "Epoch 2/100\n",
      "178/178 [==============================] - 4s 21ms/step - loss: 0.5664 - accuracy: 0.7254 - val_loss: 0.5519 - val_accuracy: 0.7014\n",
      "Epoch 3/100\n",
      "178/178 [==============================] - 4s 21ms/step - loss: 0.4922 - accuracy: 0.7775 - val_loss: 0.5415 - val_accuracy: 0.6986\n",
      "Epoch 4/100\n",
      "178/178 [==============================] - 4s 21ms/step - loss: 0.4381 - accuracy: 0.8127 - val_loss: 0.5073 - val_accuracy: 0.7155\n",
      "Epoch 5/100\n",
      "178/178 [==============================] - 4s 21ms/step - loss: 0.3960 - accuracy: 0.8521 - val_loss: 0.4971 - val_accuracy: 0.7352\n",
      "Epoch 6/100\n",
      "178/178 [==============================] - 4s 22ms/step - loss: 0.3642 - accuracy: 0.8662 - val_loss: 0.4773 - val_accuracy: 0.7479\n",
      "Epoch 7/100\n",
      "178/178 [==============================] - 4s 22ms/step - loss: 0.3346 - accuracy: 0.8859 - val_loss: 0.4702 - val_accuracy: 0.7563\n",
      "Epoch 8/100\n",
      "178/178 [==============================] - 4s 22ms/step - loss: 0.3118 - accuracy: 0.9028 - val_loss: 0.4648 - val_accuracy: 0.7592\n",
      "Epoch 9/100\n",
      "178/178 [==============================] - 4s 23ms/step - loss: 0.2888 - accuracy: 0.9085 - val_loss: 0.4587 - val_accuracy: 0.7634\n",
      "Epoch 10/100\n",
      "178/178 [==============================] - 4s 25ms/step - loss: 0.2700 - accuracy: 0.9254 - val_loss: 0.4538 - val_accuracy: 0.7690\n",
      "Epoch 11/100\n",
      "178/178 [==============================] - 4s 23ms/step - loss: 0.2536 - accuracy: 0.9268 - val_loss: 0.4509 - val_accuracy: 0.7746\n",
      "Epoch 12/100\n",
      "178/178 [==============================] - 4s 22ms/step - loss: 0.2382 - accuracy: 0.9380 - val_loss: 0.4443 - val_accuracy: 0.7803\n",
      "Epoch 13/100\n",
      "178/178 [==============================] - 4s 22ms/step - loss: 0.2238 - accuracy: 0.9465 - val_loss: 0.4385 - val_accuracy: 0.7845\n",
      "Epoch 14/100\n",
      "178/178 [==============================] - 4s 23ms/step - loss: 0.2114 - accuracy: 0.9563 - val_loss: 0.4364 - val_accuracy: 0.7901\n",
      "Epoch 15/100\n",
      "178/178 [==============================] - 4s 23ms/step - loss: 0.1985 - accuracy: 0.9634 - val_loss: 0.4323 - val_accuracy: 0.7930\n",
      "Epoch 16/100\n",
      "178/178 [==============================] - 4s 23ms/step - loss: 0.1869 - accuracy: 0.9690 - val_loss: 0.4327 - val_accuracy: 0.7915\n",
      "Epoch 17/100\n",
      "178/178 [==============================] - 4s 25ms/step - loss: 0.1778 - accuracy: 0.9718 - val_loss: 0.4335 - val_accuracy: 0.7915\n",
      "Epoch 18/100\n",
      "178/178 [==============================] - 5s 27ms/step - loss: 0.1664 - accuracy: 0.9789 - val_loss: 0.4241 - val_accuracy: 0.7972\n",
      "Epoch 19/100\n",
      "178/178 [==============================] - 6s 31ms/step - loss: 0.1577 - accuracy: 0.9831 - val_loss: 0.4253 - val_accuracy: 0.7972\n",
      "Epoch 20/100\n",
      "178/178 [==============================] - 5s 31ms/step - loss: 0.1483 - accuracy: 0.9845 - val_loss: 0.4258 - val_accuracy: 0.7958\n",
      "Epoch 21/100\n",
      "178/178 [==============================] - 5s 31ms/step - loss: 0.1405 - accuracy: 0.9831 - val_loss: 0.4229 - val_accuracy: 0.7986\n",
      "Epoch 22/100\n",
      "178/178 [==============================] - 4s 25ms/step - loss: 0.1335 - accuracy: 0.9873 - val_loss: 0.4243 - val_accuracy: 0.8014\n",
      "Epoch 23/100\n",
      "178/178 [==============================] - 4s 25ms/step - loss: 0.1256 - accuracy: 0.9887 - val_loss: 0.4172 - val_accuracy: 0.8042\n",
      "Epoch 24/100\n",
      "178/178 [==============================] - 4s 24ms/step - loss: 0.1187 - accuracy: 0.9901 - val_loss: 0.4174 - val_accuracy: 0.8056\n",
      "Epoch 25/100\n",
      "178/178 [==============================] - 4s 23ms/step - loss: 0.1120 - accuracy: 0.9944 - val_loss: 0.4187 - val_accuracy: 0.8042\n",
      "Epoch 26/100\n",
      "178/178 [==============================] - 5s 27ms/step - loss: 0.1063 - accuracy: 0.9930 - val_loss: 0.4187 - val_accuracy: 0.8042\n",
      "Epoch 27/100\n",
      "178/178 [==============================] - 4s 24ms/step - loss: 0.0997 - accuracy: 0.9972 - val_loss: 0.4153 - val_accuracy: 0.8070\n",
      "Epoch 28/100\n",
      "178/178 [==============================] - 4s 24ms/step - loss: 0.0942 - accuracy: 0.9986 - val_loss: 0.4152 - val_accuracy: 0.8042\n",
      "Epoch 29/100\n",
      "178/178 [==============================] - 4s 24ms/step - loss: 0.0891 - accuracy: 0.9986 - val_loss: 0.4166 - val_accuracy: 0.8056\n",
      "Epoch 30/100\n",
      "178/178 [==============================] - 4s 24ms/step - loss: 0.0846 - accuracy: 0.9986 - val_loss: 0.4197 - val_accuracy: 0.8028\n",
      "Epoch 31/100\n",
      "178/178 [==============================] - 4s 22ms/step - loss: 0.0795 - accuracy: 0.9986 - val_loss: 0.4198 - val_accuracy: 0.8028\n",
      "Epoch 32/100\n",
      "178/178 [==============================] - 4s 23ms/step - loss: 0.0749 - accuracy: 0.9986 - val_loss: 0.4162 - val_accuracy: 0.8056\n",
      "Epoch 33/100\n",
      "178/178 [==============================] - 4s 23ms/step - loss: 0.0709 - accuracy: 0.9986 - val_loss: 0.4180 - val_accuracy: 0.8056\n",
      "Epoch 34/100\n",
      "178/178 [==============================] - 4s 23ms/step - loss: 0.0663 - accuracy: 0.9986 - val_loss: 0.4154 - val_accuracy: 0.8183\n",
      "Epoch 35/100\n",
      "178/178 [==============================] - 4s 23ms/step - loss: 0.0624 - accuracy: 0.9986 - val_loss: 0.4184 - val_accuracy: 0.8127\n",
      "Epoch 36/100\n",
      "178/178 [==============================] - 4s 23ms/step - loss: 0.0592 - accuracy: 1.0000 - val_loss: 0.4205 - val_accuracy: 0.8070\n",
      "Epoch 37/100\n",
      "178/178 [==============================] - 4s 23ms/step - loss: 0.0556 - accuracy: 1.0000 - val_loss: 0.4180 - val_accuracy: 0.8183\n",
      "Epoch 38/100\n",
      "178/178 [==============================] - 4s 23ms/step - loss: 0.0520 - accuracy: 1.0000 - val_loss: 0.4225 - val_accuracy: 0.8099\n",
      "Epoch 39/100\n",
      "178/178 [==============================] - 4s 22ms/step - loss: 0.0494 - accuracy: 1.0000 - val_loss: 0.4205 - val_accuracy: 0.8183\n",
      "Epoch 40/100\n",
      "178/178 [==============================] - 4s 23ms/step - loss: 0.0464 - accuracy: 1.0000 - val_loss: 0.4260 - val_accuracy: 0.8085\n",
      "Epoch 41/100\n",
      "178/178 [==============================] - 4s 22ms/step - loss: 0.0433 - accuracy: 1.0000 - val_loss: 0.4248 - val_accuracy: 0.8141\n",
      "Epoch 42/100\n",
      "178/178 [==============================] - 4s 22ms/step - loss: 0.0409 - accuracy: 1.0000 - val_loss: 0.4260 - val_accuracy: 0.8169\n",
      "Epoch 43/100\n",
      "178/178 [==============================] - 4s 23ms/step - loss: 0.0385 - accuracy: 1.0000 - val_loss: 0.4271 - val_accuracy: 0.8155\n",
      "Epoch 44/100\n",
      "178/178 [==============================] - 4s 23ms/step - loss: 0.0361 - accuracy: 1.0000 - val_loss: 0.4305 - val_accuracy: 0.8141\n",
      "Epoch 45/100\n",
      "178/178 [==============================] - 4s 23ms/step - loss: 0.0338 - accuracy: 1.0000 - val_loss: 0.4297 - val_accuracy: 0.8155\n",
      "Epoch 46/100\n",
      "178/178 [==============================] - 4s 22ms/step - loss: 0.0318 - accuracy: 1.0000 - val_loss: 0.4325 - val_accuracy: 0.8155\n",
      "Epoch 47/100\n",
      "178/178 [==============================] - 4s 23ms/step - loss: 0.0299 - accuracy: 1.0000 - val_loss: 0.4341 - val_accuracy: 0.8155\n",
      "Epoch 48/100\n",
      "178/178 [==============================] - 4s 23ms/step - loss: 0.0280 - accuracy: 1.0000 - val_loss: 0.4372 - val_accuracy: 0.8141\n",
      "Epoch 49/100\n",
      "178/178 [==============================] - 4s 22ms/step - loss: 0.0262 - accuracy: 1.0000 - val_loss: 0.4357 - val_accuracy: 0.8155\n",
      "Epoch 50/100\n",
      "178/178 [==============================] - 4s 23ms/step - loss: 0.0247 - accuracy: 1.0000 - val_loss: 0.4399 - val_accuracy: 0.8169\n",
      "Epoch 51/100\n",
      "178/178 [==============================] - 4s 22ms/step - loss: 0.0232 - accuracy: 1.0000 - val_loss: 0.4408 - val_accuracy: 0.8169\n",
      "Epoch 52/100\n",
      "178/178 [==============================] - 4s 23ms/step - loss: 0.0216 - accuracy: 1.0000 - val_loss: 0.4434 - val_accuracy: 0.8155\n",
      "Epoch 53/100\n",
      "178/178 [==============================] - 4s 22ms/step - loss: 0.0203 - accuracy: 1.0000 - val_loss: 0.4475 - val_accuracy: 0.8155\n",
      "Epoch 54/100\n",
      "178/178 [==============================] - 4s 23ms/step - loss: 0.0191 - accuracy: 1.0000 - val_loss: 0.4484 - val_accuracy: 0.8155\n",
      "Epoch 55/100\n",
      "178/178 [==============================] - 4s 23ms/step - loss: 0.0180 - accuracy: 1.0000 - val_loss: 0.4495 - val_accuracy: 0.8141\n",
      "Epoch 56/100\n",
      "178/178 [==============================] - 4s 22ms/step - loss: 0.0167 - accuracy: 1.0000 - val_loss: 0.4522 - val_accuracy: 0.8155\n",
      "Epoch 57/100\n"
     ]
    },
    {
     "name": "stdout",
     "output_type": "stream",
     "text": [
      "178/178 [==============================] - 4s 23ms/step - loss: 0.0157 - accuracy: 1.0000 - val_loss: 0.4553 - val_accuracy: 0.8169\n",
      "Epoch 58/100\n",
      "178/178 [==============================] - 4s 22ms/step - loss: 0.0147 - accuracy: 1.0000 - val_loss: 0.4566 - val_accuracy: 0.8169\n",
      "Epoch 59/100\n",
      "178/178 [==============================] - 4s 23ms/step - loss: 0.0138 - accuracy: 1.0000 - val_loss: 0.4591 - val_accuracy: 0.8155\n",
      "Epoch 60/100\n",
      "178/178 [==============================] - 4s 22ms/step - loss: 0.0129 - accuracy: 1.0000 - val_loss: 0.4617 - val_accuracy: 0.8141\n",
      "Epoch 61/100\n",
      "178/178 [==============================] - 4s 22ms/step - loss: 0.0121 - accuracy: 1.0000 - val_loss: 0.4658 - val_accuracy: 0.8155\n",
      "Epoch 62/100\n",
      "178/178 [==============================] - 4s 23ms/step - loss: 0.0113 - accuracy: 1.0000 - val_loss: 0.4663 - val_accuracy: 0.8183\n",
      "Epoch 63/100\n",
      "178/178 [==============================] - 4s 23ms/step - loss: 0.0106 - accuracy: 1.0000 - val_loss: 0.4705 - val_accuracy: 0.8169\n",
      "Epoch 64/100\n",
      "178/178 [==============================] - 4s 23ms/step - loss: 0.0099 - accuracy: 1.0000 - val_loss: 0.4727 - val_accuracy: 0.8127\n",
      "Epoch 65/100\n",
      "178/178 [==============================] - 4s 24ms/step - loss: 0.0092 - accuracy: 1.0000 - val_loss: 0.4757 - val_accuracy: 0.8127\n",
      "Epoch 66/100\n",
      "178/178 [==============================] - 4s 24ms/step - loss: 0.0086 - accuracy: 1.0000 - val_loss: 0.4797 - val_accuracy: 0.8141\n",
      "Epoch 67/100\n",
      "178/178 [==============================] - 4s 24ms/step - loss: 0.0080 - accuracy: 1.0000 - val_loss: 0.4813 - val_accuracy: 0.8155\n",
      "Epoch 68/100\n",
      "178/178 [==============================] - 4s 24ms/step - loss: 0.0075 - accuracy: 1.0000 - val_loss: 0.4839 - val_accuracy: 0.8183\n",
      "Epoch 69/100\n",
      "178/178 [==============================] - 4s 22ms/step - loss: 0.0070 - accuracy: 1.0000 - val_loss: 0.4894 - val_accuracy: 0.8141\n",
      "Epoch 70/100\n",
      "178/178 [==============================] - 4s 23ms/step - loss: 0.0065 - accuracy: 1.0000 - val_loss: 0.4909 - val_accuracy: 0.8127\n",
      "Epoch 71/100\n",
      "178/178 [==============================] - 4s 23ms/step - loss: 0.0061 - accuracy: 1.0000 - val_loss: 0.4938 - val_accuracy: 0.8183\n",
      "Epoch 72/100\n",
      "178/178 [==============================] - 4s 22ms/step - loss: 0.0058 - accuracy: 1.0000 - val_loss: 0.4980 - val_accuracy: 0.8127\n",
      "Epoch 73/100\n",
      "178/178 [==============================] - 4s 22ms/step - loss: 0.0054 - accuracy: 1.0000 - val_loss: 0.5009 - val_accuracy: 0.8155\n",
      "Epoch 74/100\n",
      "178/178 [==============================] - 4s 23ms/step - loss: 0.0050 - accuracy: 1.0000 - val_loss: 0.5033 - val_accuracy: 0.8141\n",
      "Epoch 75/100\n",
      "178/178 [==============================] - 4s 23ms/step - loss: 0.0046 - accuracy: 1.0000 - val_loss: 0.5062 - val_accuracy: 0.8239\n",
      "Epoch 76/100\n",
      "178/178 [==============================] - 4s 24ms/step - loss: 0.0044 - accuracy: 1.0000 - val_loss: 0.5109 - val_accuracy: 0.8155\n",
      "Epoch 77/100\n",
      "178/178 [==============================] - 4s 24ms/step - loss: 0.0041 - accuracy: 1.0000 - val_loss: 0.5144 - val_accuracy: 0.8169\n",
      "Epoch 78/100\n",
      "178/178 [==============================] - 4s 23ms/step - loss: 0.0038 - accuracy: 1.0000 - val_loss: 0.5170 - val_accuracy: 0.8169\n",
      "Epoch 79/100\n",
      "178/178 [==============================] - 4s 22ms/step - loss: 0.0035 - accuracy: 1.0000 - val_loss: 0.5204 - val_accuracy: 0.8155\n",
      "Epoch 80/100\n",
      "178/178 [==============================] - 4s 23ms/step - loss: 0.0033 - accuracy: 1.0000 - val_loss: 0.5246 - val_accuracy: 0.8155\n",
      "Epoch 81/100\n",
      "178/178 [==============================] - 4s 23ms/step - loss: 0.0031 - accuracy: 1.0000 - val_loss: 0.5270 - val_accuracy: 0.8169\n",
      "Epoch 82/100\n",
      "178/178 [==============================] - 4s 23ms/step - loss: 0.0028 - accuracy: 1.0000 - val_loss: 0.5302 - val_accuracy: 0.8169\n",
      "Epoch 83/100\n",
      "178/178 [==============================] - 4s 22ms/step - loss: 0.0027 - accuracy: 1.0000 - val_loss: 0.5356 - val_accuracy: 0.8155\n",
      "Epoch 84/100\n",
      "178/178 [==============================] - 4s 22ms/step - loss: 0.0025 - accuracy: 1.0000 - val_loss: 0.5383 - val_accuracy: 0.8155\n",
      "Epoch 85/100\n",
      "178/178 [==============================] - 4s 23ms/step - loss: 0.0023 - accuracy: 1.0000 - val_loss: 0.5424 - val_accuracy: 0.8239\n",
      "Epoch 86/100\n",
      "178/178 [==============================] - 4s 25ms/step - loss: 0.0022 - accuracy: 1.0000 - val_loss: 0.5464 - val_accuracy: 0.8155\n",
      "Epoch 87/100\n",
      "178/178 [==============================] - 4s 23ms/step - loss: 0.0020 - accuracy: 1.0000 - val_loss: 0.5496 - val_accuracy: 0.8183\n",
      "Epoch 88/100\n",
      "178/178 [==============================] - 4s 22ms/step - loss: 0.0019 - accuracy: 1.0000 - val_loss: 0.5541 - val_accuracy: 0.8169\n",
      "Epoch 89/100\n",
      "178/178 [==============================] - 4s 23ms/step - loss: 0.0017 - accuracy: 1.0000 - val_loss: 0.5574 - val_accuracy: 0.8155\n",
      "Epoch 90/100\n",
      "178/178 [==============================] - 4s 23ms/step - loss: 0.0016 - accuracy: 1.0000 - val_loss: 0.5613 - val_accuracy: 0.8155\n",
      "Epoch 91/100\n",
      "178/178 [==============================] - 4s 24ms/step - loss: 0.0015 - accuracy: 1.0000 - val_loss: 0.5645 - val_accuracy: 0.8197\n",
      "Epoch 92/100\n",
      "178/178 [==============================] - 4s 24ms/step - loss: 0.0014 - accuracy: 1.0000 - val_loss: 0.5702 - val_accuracy: 0.8155\n",
      "Epoch 93/100\n",
      "178/178 [==============================] - 4s 23ms/step - loss: 0.0013 - accuracy: 1.0000 - val_loss: 0.5724 - val_accuracy: 0.8211\n",
      "Epoch 94/100\n",
      "178/178 [==============================] - 4s 23ms/step - loss: 0.0012 - accuracy: 1.0000 - val_loss: 0.5765 - val_accuracy: 0.8239\n",
      "Epoch 95/100\n",
      "178/178 [==============================] - 4s 23ms/step - loss: 0.0011 - accuracy: 1.0000 - val_loss: 0.5803 - val_accuracy: 0.8197\n",
      "Epoch 96/100\n",
      "178/178 [==============================] - 4s 23ms/step - loss: 0.0010 - accuracy: 1.0000 - val_loss: 0.5849 - val_accuracy: 0.8197\n",
      "Epoch 97/100\n",
      "178/178 [==============================] - 4s 24ms/step - loss: 9.6583e-04 - accuracy: 1.0000 - val_loss: 0.5882 - val_accuracy: 0.8211\n",
      "Epoch 98/100\n",
      "178/178 [==============================] - 4s 24ms/step - loss: 8.9758e-04 - accuracy: 1.0000 - val_loss: 0.5923 - val_accuracy: 0.8225\n",
      "Epoch 99/100\n",
      "178/178 [==============================] - 4s 23ms/step - loss: 8.3271e-04 - accuracy: 1.0000 - val_loss: 0.5963 - val_accuracy: 0.8239\n",
      "Epoch 100/100\n",
      "178/178 [==============================] - 4s 23ms/step - loss: 7.8270e-04 - accuracy: 1.0000 - val_loss: 0.6022 - val_accuracy: 0.8211\n"
     ]
    }
   ],
   "source": [
    "history = model.fit( train_ds, validation_data=val_ds ,epochs=nb_epochs )"
   ]
  },
  {
   "cell_type": "code",
   "execution_count": 15,
   "id": "8e595241",
   "metadata": {
    "scrolled": true
   },
   "outputs": [
    {
     "name": "stdout",
     "output_type": "stream",
     "text": [
      "Model = Binary_Resnet\n",
      "Epochs = 100\n",
      "Image Size = 200\n",
      "Batch = 4\n",
      "learningRate = 1e-05\n"
     ]
    },
    {
     "data": {
      "image/png": "[encoded data removed]",
      "text/plain": [
       "<Figure size 576x576 with 2 Axes>"
      ]
     },
     "metadata": {
      "needs_background": "light"
     },
     "output_type": "display_data"
    }
   ],
   "source": [
    "import os\n",
    "acc = history.history['accuracy']\n",
    "val_acc = history.history['val_accuracy']\n",
    "\n",
    "loss = history.history['loss']\n",
    "val_loss = history.history['val_loss']\n",
    "\n",
    "epochs_range = range(nb_epochs)\n",
    "\n",
    "\n",
    "print(\"Model = \"+model_name)\n",
    "print(\"Epochs = {}\".format(nb_epochs))\n",
    "print(\"Image Size = {}\".format(img_width))\n",
    "print(\"Batch = {}\".format(batch_size))\n",
    "print(\"learningRate = {}\".format(learningRate))\n",
    "plt.figure(figsize=(8, 8))\n",
    "plt.subplot(1, 2, 1)\n",
    "plt.plot(epochs_range, acc, label='Training Accuracy')\n",
    "plt.plot(epochs_range, val_acc, label='Validation Accuracy')\n",
    "plt.legend(loc='lower right')\n",
    "plt.title('Training and Validation Accuracy')\n",
    "\n",
    "plt.subplot(1, 2, 2)\n",
    "plt.plot(epochs_range, loss, label='Training Loss')\n",
    "plt.plot(epochs_range, val_loss, label='Validation Loss')\n",
    "plt.legend(loc='upper right')\n",
    "plt.title('Training and Validation Loss')\n",
    "\n",
    "#####  use this  to save train graph as png #####################\n",
    "from datetime import datetime\n",
    "dt = datetime.now()\n",
    "ts = datetime.timestamp(dt)\n",
    "date_time = datetime.fromtimestamp(ts)\n",
    "str_date_time = date_time.strftime(\"%d-%m-%Y_%H-%M\")\n",
    "graph_path = r'./experimentData/graph'\n",
    "experiment_path = r'./experimentData'\n",
    "if( not (os.path.exists(experiment_path)) ) :\n",
    "    os.mkdir(experiment_path)\n",
    "if( not (os.path.exists(graph_path)) ) :\n",
    "    os.mkdir(graph_path)\n",
    "plt.savefig(graph_path+'/'+str_date_time+\".png\")  \n",
    "#####  use this  to save train graph as png #####################\n",
    "\n",
    "plt.show()\n",
    "\n",
    "\n",
    "\n"
   ]
  },
  {
   "cell_type": "code",
   "execution_count": 16,
   "id": "6a45f5b6",
   "metadata": {},
   "outputs": [
    {
     "ename": "NameError",
     "evalue": "name 'modelName' is not defined",
     "output_type": "error",
     "traceback": [
      "\u001b[1;31m---------------------------------------------------------------------------\u001b[0m",
      "\u001b[1;31mNameError\u001b[0m                                 Traceback (most recent call last)",
      "Input \u001b[1;32mIn [16]\u001b[0m, in \u001b[0;36m<cell line: 1>\u001b[1;34m()\u001b[0m\n\u001b[1;32m----> 1\u001b[0m model\u001b[38;5;241m.\u001b[39msave(\u001b[38;5;124mr\u001b[39m\u001b[38;5;124m\"\u001b[39m\u001b[38;5;124m./ModelSaving/FinalModel_\u001b[39m\u001b[38;5;124m\"\u001b[39m\u001b[38;5;241m+\u001b[39m\u001b[43mmodelName\u001b[49m\u001b[38;5;241m+\u001b[39m\u001b[38;5;124m\"\u001b[39m\u001b[38;5;124m.h5\u001b[39m\u001b[38;5;124m\"\u001b[39m)\n",
      "\u001b[1;31mNameError\u001b[0m: name 'modelName' is not defined"
     ]
    }
   ],
   "source": [
    "model.save(r\"./ModelSaving/FinalModel_\"+model_name+\".h5\")"
   ]
  },
  {
   "cell_type": "code",
   "execution_count": null,
   "id": "7bca4936",
   "metadata": {},
   "outputs": [],
   "source": [
    "import pandas as pd\n",
    "import os\n",
    "\n",
    "from datetime import datetime\n",
    "dt = datetime.now()\n",
    "ts = datetime.timestamp(dt)\n",
    "date_time = datetime.fromtimestamp(ts)\n",
    "str_date_time = date_time.strftime(\"%d/%m/%Y, %H:%M\")\n",
    "\n",
    "\n",
    "\n",
    "############################# List that var should be defined   \n",
    "############################# รายชื่อตัวแปร ที่ควรสร้าง และใส่ค่า \n",
    "varList = {\"model_name\",   ### name of model\n",
    "           \"nb_epochs\",     ### number of epochs\n",
    "           \"batch_size\",    ###  batch size\n",
    "           \"learningRate\",  ### learning rate\n",
    "           \"accuracy\",       ###  accuracy of model\n",
    "           \"val_accuracy\",  ### val_accuracy  of model\n",
    "           \"loss\",          ### loss  of model\n",
    "           \"val_loss\",      ### val_loss  of model\n",
    "           \"loss_function\", ### lossfunction name    Must be str\n",
    "           \"graph_path\",    ###  path to graph dir\n",
    "           \"exp_dataset\",  ###  explain about dataset\n",
    "           \"other_comment\"}  ###  option  for comment\n",
    "#############################\n",
    "\n",
    "\n",
    "\n",
    "\n",
    "\n",
    "pathDir = r'./experimentData'\n",
    "path = r'./experimentData/Experiment.csv'\n",
    "\n",
    "ExpDict = {\n",
    "            'Date': [],\n",
    "            'ModelName': [],\n",
    "            'Epochs' : [],\n",
    "            'ImageSize' : [],\n",
    "            'Batch': [],\n",
    "            'LearningRate' : [],\n",
    "            'Accuracy' : [],\n",
    "            'valAccuracy': [],\n",
    "            'loss' : [],\n",
    "            'valLoss' : [],\n",
    "            'lossFunction' : [],\n",
    "            'GraphPath' : [],\n",
    "            'ExpDataSet' : [],\n",
    "            'otherComment' : []\n",
    "             }\n",
    "\n",
    "if(not (os.path.exists(path))) :\n",
    "    dt = pd.DataFrame(ExpDict)\n",
    "    if( not (os.path.exists(pathDir)) ) :\n",
    "            os.mkdir(pathDir)\n",
    "    dt.to_csv(path,na_rep='',float_format='%.2f',index=False)\n",
    "\n",
    "expExel = pd.read_csv(path)\n",
    "\n",
    "for var in varList :\n",
    "    if not(var in globals()):\n",
    "        exec(var + \" = ''\")\n",
    "\n",
    "        \n",
    "ExpDict[\"Date\"] = str_date_time\n",
    "ExpDict[\"ModelName\"] = model_name\n",
    "ExpDict[\"Epochs\"] = str(nb_epochs)\n",
    "if (\"img_height\" in globals()) and  (\"img_width\" in globals()):\n",
    "    ExpDict[\"ImageSize\"] = str(\"HeightWidth = {}*{}\".format(img_height,img_width))\n",
    "elif (\"img_size\" in globals()):\n",
    "    ExpDict[\"ImageSize\"] = str(\"ImageSize = {}\".format(img_size))\n",
    "else :\n",
    "    ExpDict[\"ImageSize\"] = \"\"\n",
    "ExpDict[\"Batch\"] = str(batch_size)\n",
    "ExpDict[\"LearningRate\"] = str(learningRate)\n",
    "ExpDict[\"Accuracy\"] = str(acc)\n",
    "ExpDict[\"valAccuracy\"] = str(val_acc)\n",
    "ExpDict[\"loss\"] = str(loss)\n",
    "ExpDict[\"valLoss\"] = str(val_loss)\n",
    "ExpDict[\"lossFunction\"] = loss_function\n",
    "ExpDict[\"GraphPath\"] = graph_path\n",
    "ExpDict[\"ExpDataSet\"] = exp_dataset\n",
    "ExpDict[\"otherComment\"] = other_comment\n",
    "\n",
    "\n",
    "\n"
   ]
  },
  {
   "cell_type": "code",
   "execution_count": null,
   "id": "b1fcddb9",
   "metadata": {},
   "outputs": [],
   "source": [
    "###  บันทึกทับลง exel\n",
    "expExel = expExel.append(ExpDict,ignore_index=True)\n",
    "expExel.to_csv(path,na_rep='',float_format='%.2f',index=False)"
   ]
  },
  {
   "cell_type": "code",
   "execution_count": null,
   "id": "91b1d8f2",
   "metadata": {},
   "outputs": [],
   "source": []
  }
 ],
 "metadata": {
  "kernelspec": {
   "display_name": "Python [conda env:scAI]",
   "language": "python",
   "name": "conda-env-scAI-py"
  },
  "language_info": {
   "codemirror_mode": {
    "name": "ipython",
    "version": 3
   },
   "file_extension": ".py",
   "mimetype": "text/x-python",
   "name": "python",
   "nbconvert_exporter": "python",
   "pygments_lexer": "ipython3",
   "version": "3.9.7"
  }
 },
 "nbformat": 4,
 "nbformat_minor": 5
}
