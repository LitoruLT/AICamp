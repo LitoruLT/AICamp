{
 "cells": [
  {
   "cell_type": "code",
   "execution_count": 1,
   "id": "2be97fce",
   "metadata": {},
   "outputs": [
    {
     "ename": "ModuleNotFoundError",
     "evalue": "No module named 'skimage'",
     "output_type": "error",
     "traceback": [
      "\u001b[1;31m---------------------------------------------------------------------------\u001b[0m",
      "\u001b[1;31mModuleNotFoundError\u001b[0m                       Traceback (most recent call last)",
      "Input \u001b[1;32mIn [1]\u001b[0m, in \u001b[0;36m<cell line: 4>\u001b[1;34m()\u001b[0m\n\u001b[0;32m      1\u001b[0m \u001b[38;5;66;03m# Data augmentation using Keras for datasets\u001b[39;00m\n\u001b[0;32m      3\u001b[0m \u001b[38;5;28;01mfrom\u001b[39;00m \u001b[38;5;21;01mkeras\u001b[39;00m\u001b[38;5;21;01m.\u001b[39;00m\u001b[38;5;21;01mpreprocessing\u001b[39;00m\u001b[38;5;21;01m.\u001b[39;00m\u001b[38;5;21;01mimage\u001b[39;00m \u001b[38;5;28;01mimport\u001b[39;00m ImageDataGenerator\n\u001b[1;32m----> 4\u001b[0m \u001b[38;5;28;01mfrom\u001b[39;00m \u001b[38;5;21;01mskimage\u001b[39;00m \u001b[38;5;28;01mimport\u001b[39;00m io\n",
      "\u001b[1;31mModuleNotFoundError\u001b[0m: No module named 'skimage'"
     ]
    }
   ],
   "source": [
    "# Data augmentation using Keras for datasets\n",
    "\n",
    "from keras.preprocessing.image import ImageDataGenerator\n",
    "from skimage import io"
   ]
  },
  {
   "cell_type": "code",
   "execution_count": null,
   "id": "8a584218",
   "metadata": {},
   "outputs": [],
   "source": [
    "datagen = ImageDataGenerator(rotation_range = 45,\n",
    "                            width_shift_range = 0.2,\n",
    "                            height_shift_range =  0.2,\n",
    "                            shear_range = 0.2,\n",
    "                            zoom_range = 0.2,\n",
    "                            brightness_range=[0.2,1.0],\n",
    "                            horizontal_flip = True,\n",
    "                            fill_mode = 'nearest')"
   ]
  },
  {
   "cell_type": "code",
   "execution_count": 3,
   "id": "586a120d",
   "metadata": {},
   "outputs": [],
   "source": [
    "dataset = []\n",
    "\n",
    "import numpy as np\n",
    "import os\n",
    "from PIL import Image\n",
    "\n",
    "image_directory = r\"C:\\Users\\kuric\\Desktop\\AI Camp\\Code\\Project_back\\Data_aug_Unclean\\Bungarus\"\n",
    "SIZE = 256"
   ]
  },
  {
   "cell_type": "code",
   "execution_count": 4,
   "id": "523d41a7",
   "metadata": {
    "scrolled": true
   },
   "outputs": [
    {
     "name": "stdout",
     "output_type": "stream",
     "text": [
      "1.trimeresurus_albolabris_2c_white-lipped_pit_viper__28female_29_-_kaeng_krachan_national_park__2827493423545_29.jpg\n",
      "10.trimeresurus-insularis-03000038885_01.jpg\n",
      "11.snake_trimeresurus__trimeresurus__cardamomensis.jpg\n",
      "12.trimeresurus_davidi-novataxa_2020-chandramouli_campbell_et_vogel___2540chandramouli79230.jpg\n",
      "13.trimeresurus-guoi-w-1500.jpg\n",
      "14.009f91bdf02b4d7e4aab681d6cafcec6.jpg\n",
      "15.snake_trimeresurus__popeia__phuketensis.jpg\n",
      "16.close-up-yellow-lipped-green-pit-viper-snake-trimeresurus-trigonocephalus-kd86d4.jpg\n",
      "17.0f099352545975a160bdc5f4c93517c7270909e3.jpg\n",
      "18.trimeresurus-stejnegeri-03000031691_01.jpg\n",
      "19.snake-balogova-keffiyeh-trimeresurus-albolabris-category-alkoholowe-wallpaper-preview.jpg\n",
      "20.trimeresurus-gumprechti-male-w-1500.jpg\n",
      "21.highly-venomous-white-lipped-green-pit-viper-snake-trimeresurus-albolabris-close-up-white-lipped-green-pit-viper-snake-163561244.jpg\n",
      "22.blue-insularis-pit-viper-snakes-trimeresurus-albolabris_146081-75.jpg.jpg\n",
      "23..jpg\n",
      "24.close-up-yellow-lipped-green-pit-viper-snake-trimeresurus-trigonocephalus-in-nature-from-thailand-2a0wkde.jpg\n",
      "25.trimeresurus_albolabris_01.jpg\n",
      "26.highly-venomous-white-lipped-green-pit-viper-snake-trimeresurus-albolabris-close-up-white-lipped-green-pit-viper-snake-163561038.jpg\n",
      "27.trimeresurus-venustus-03000042586_01.jpg\n",
      "28.2020-10-13_d8k_7532.jpg\n",
      "3.d8a_7879_trimeresurus_albolabris_adult_male_kk.jpg\n",
      "30.black-viper-trimeresurus-purpureomaculatus-manggrove-pit-viper-venomous-snake_103127-2181.jpg.jpg\n",
      "31.close-up-yellow-lipped-green-pit-viper-snake-trimeresurus-trigonocephalus-in-nature-from-thailand-2a0wkdk.jpg\n",
      "32.trimeresurus_davidi-novataax_2020-chandramouli_campbell_et_vogel___2540chandramouli79230.jpg\n",
      "33.trimeresurus-kanburiensis.jpg\n",
      "34.highly-venomous-white-lipped-green-pit-viper-snake-trimeresurus-albolabris-close-up-white-lipped-green-pit-viper-snake-163561173.jpg\n",
      "35.stock-photo-asian-or-green-pit-vipers-trimeresurus-viperidae-beautiful-little-green-snake-with-big-head-and-1533942482.jpg\n",
      "36.trimeresurus-albolabris-03000033522_01.jpg\n",
      "37.snake_trimeresurus__popeia__fucatus.jpg\n",
      "38.141199983-close-up-white-lipped-green-pit-viper-snake-trimeresurus-albolabris-isolated-on-white-background.jpg.jpg\n",
      "39.trimeresurus_gumprechti_2c_gumprecht_e2_80_99s_pit_viper__28female_29_-_phu_suan_sai_national_park__2846711073485_29.jpg\n",
      "4.trimeresurus-popeiorum-w-1500.jpg\n",
      "40.hagen_s-pit-viper_ss_1.jpg\n",
      "41.i0000cigf2xdpoem.jpg\n",
      "42.black-viper-trimeresurus-purpureomaculatus-manggrove-pit-viper-venomous-snake_103127-2162.jpg.jpg\n",
      "43.6e91c740ecfa0973172eb782e2d6a7d8.jpg\n",
      "44.554-trimeresurus-mcgregori_001_thorhakonsen-1.jpg\n",
      "46.angry-blue-viper-snake-trimeresurus-insularis-picture-id612401518.jpg\n",
      "48.141199972-close-up-white-lipped-green-pit-viper-snake-trimeresurus-albolabris-isolated-on-white-background.jpg.jpg\n",
      "5.trimeresurus-albolabris-w-1500.jpg\n",
      "50.554-trimeresurus-mcgregori_004_thorhakonsen-4.jpg\n",
      "51.76788821.jpg\n",
      "52.trimeresurus-phuketensis-w-1500.jpg\n",
      "53.figure-5.jpg\n",
      "54.photo.jpg\n",
      "55.close-up-yellow-lipped-green-pit-viper-snake-trimeresurus-trigonocephalus-in-nature-from-thailand-2a0wkf4.jpg\n",
      "56.i0000rv8cwr0axn8.jpg\n",
      "57.focused_458391580-stock-photo-two-trimeresurus-albolabris-snakes-tree.jpg\n",
      "58.highly-venomous-white-lipped-green-pit-viper-snake-trimeresurus-albolabris-close-up-white-lipped-green-pit-viper-snake-163560888.jpg\n",
      "59.trimeresurus-insularis-snake-native-to-indonesia-which-is-blue-picture-id1310708150.jpg\n",
      "6.trimeresurus_insularis.jpg\n",
      "60.snake_trimeresurus__trimeresurus__albolabris.jpg\n",
      "61.green-viper-snake-trimeresurus-albolabris-indonesian-viper-snake-picture-id1199011060.jpg\n",
      "62.190px-trimeresurus_septentrionalis_wiki.jpg\n",
      "63.esy-031902898.jpg\n",
      "64.trimeresurus-albolabris-white-lipped-island-snakes-fauna-green-viper-snakes_146081-116.jpg.jpg\n",
      "65.focused_458391586-stock-photo-two-trimeresurus-albolabris-snakes-tree.jpg\n",
      "66.close-up-white-lipped-green-pit-viper-snake-trimeresurus-albolabris-isolated-on-white-background-stock-photo_csp89492523.jpg\n",
      "67.1000_f_309007653_b1p3ygks8unzi4kktvetow4cusffazg1.jpg\n",
      "69.panoramic-photography-of-sky-and-body-of-water-wallpaper-preview.jpg\n",
      "7.pope-s-pit-viper-trimeresurus-popeiorum_2008-11-24_aaa_6031.jpg\n",
      "70.trimeresurus-vogeli-03000043344_01.jpg\n",
      "71.ff498042966a7705086447618eee4e02.jpg\n",
      "73.trimeresurus-stejnegeri-stejnegeri-01-650px.jpg\n",
      "75.esy-048030123.jpg\n",
      "76.87913065-cierre-de-verde-pit-viper-serpiente-amarilla-de-labios-trimeresurus-trigonocephalus-en-la-naturaleza.jpg.jpg\n",
      "77.beautiful-pit-viper-trimeresurus-venustus_2018-06-20_d8g_4215.jpg\n",
      "79.close-up-yellow-lipped-green-pit-viper-snake-trimeresurus-trigonocephalus-kd86d6.jpg\n",
      "8.trimeresurus-popeiorum-03000036187_01.jpg\n",
      "81.24254247465_49932ecc06_b.jpg\n",
      "82.trimeresurus-macrops-big-eyed-viper-kevin-messenger-nakhon-ratchasima.jpg\n",
      "85.close-up-white-lipped-green-pit-viper-snake-trimeresurus-albolabris-isolated-background-highly-venomous-163560844.jpg\n",
      "86.trimeresurus-hageni-w-1500.jpg\n",
      "87.depositphotos_325081752-stock-photo-large-scaled-pit-viper-trimeresurus.jpg\n",
      "88.green+tree+viper+-+trimeresurus+stejnegeri+stejnegeri-22.jpg\n",
      "9.trimeresurus_stejnegeri.jpg\n",
      "90.green-viper-snake-trimeresurus-albolabris-indonesian-viper-snake-picture-id1199010904.jpg\n",
      "91.focused_472523366-stock-photo-close-blue-viper-snake-trimeresurus.jpg\n",
      "92.whatsapp-image-2022-05-21-at-4.16.51-pm-696x395-1.jpg\n",
      "94.trimeresurus-macrops-big-eyed-viper-kevin-messenger-nakhon-ratchasima-1.jpg\n",
      "95.close-up-white-lipped-green-pit-viper-snake-trimeresurus-albolabris-isolated-on-white-background-700-242162822.jpg\n",
      "96.trimeresurus_caudornatus-novataxa_2020-chen_ding_vogel_et_shi.jpg\n",
      "97.blue-insularis-pit-viper-snakes-trimeresurus-albolabris_146081-72.jpg.jpg\n"
     ]
    }
   ],
   "source": [
    "my_images = os.listdir(image_directory)\n",
    "\n",
    "for i, image_name in enumerate(my_images):\n",
    "    print(image_name)\n",
    "    image = io.imread(image_directory+\"\\\\\" + image_name)\n",
    "    image = Image.fromarray(image, 'RGB')\n",
    "    image = image.resize((SIZE, SIZE))\n",
    "    dataset.append(np.array(image))"
   ]
  },
  {
   "cell_type": "code",
   "execution_count": 5,
   "id": "d6c53f37",
   "metadata": {},
   "outputs": [],
   "source": [
    "x = np.array(dataset)"
   ]
  },
  {
   "cell_type": "code",
   "execution_count": 6,
   "id": "317779aa",
   "metadata": {
    "scrolled": true
   },
   "outputs": [],
   "source": [
    "i=0\n",
    "for batch in datagen.flow(x, batch_size = 16,\n",
    "                         save_to_dir = image_directory,\n",
    "                         save_prefix = 'aug',\n",
    "                         save_format = 'png'):\n",
    "    i += 1\n",
    "    if i > 100:\n",
    "        break"
   ]
  },
  {
   "cell_type": "code",
   "execution_count": null,
   "id": "62de3d4e",
   "metadata": {},
   "outputs": [],
   "source": []
  },
  {
   "cell_type": "code",
   "execution_count": null,
   "id": "88aa830a",
   "metadata": {},
   "outputs": [],
   "source": []
  }
 ],
 "metadata": {
  "kernelspec": {
   "display_name": "Python [conda env:scAI]",
   "language": "python",
   "name": "conda-env-scAI-py"
  },
  "language_info": {
   "codemirror_mode": {
    "name": "ipython",
    "version": 3
   },
   "file_extension": ".py",
   "mimetype": "text/x-python",
   "name": "python",
   "nbconvert_exporter": "python",
   "pygments_lexer": "ipython3",
   "version": "3.9.7"
  }
 },
 "nbformat": 4,
 "nbformat_minor": 5
}
